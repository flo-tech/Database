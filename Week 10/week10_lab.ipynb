{
 "cells": [
  {
   "cell_type": "code",
   "execution_count": 10,
   "metadata": {},
   "outputs": [],
   "source": [
    "from sqlalchemy import create_engine\n",
    "my_conn = create_engine(\"sqlite:///my_db.db\")"
   ]
  },
  {
   "cell_type": "code",
   "execution_count": 11,
   "metadata": {},
   "outputs": [
    {
     "name": "stdout",
     "output_type": "stream",
     "text": [
      "(1, 'John Deo', 'Four', 75, 'female')\n",
      "(18, 'Honny', 'Five', 75, 'male')\n",
      "(20, 'Jackly', 'Nine', 65, 'female')\n",
      "(21, 'Babby John', 'Four', 69, 'female')\n",
      "(34, 'Gain Toe', 'Seven', 69, 'male')\n",
      "Total Number of rows :  5\n"
     ]
    }
   ],
   "source": [
    "from sqlalchemy.exc import SQLAlchemyError\n",
    "\n",
    "q = \"SELECT * FROM student WHERE mark BETWEEN 65 AND 75\"\n",
    "\n",
    "try:\n",
    "    r_set = my_conn.execute(q)\n",
    "    r_list = r_set.fetchall()\n",
    "    for row in r_list:\n",
    "        print(row)\n",
    "except SQLAlchemyError as e:\n",
    "    error = str(e.__dict__['orig'])\n",
    "    print(error)\n",
    "else:\n",
    "    print(\"Total Number of rows : \", len(r_list))"
   ]
  },
  {
   "cell_type": "code",
   "execution_count": 12,
   "metadata": {},
   "outputs": [
    {
     "name": "stdout",
     "output_type": "stream",
     "text": [
      "(1, 'John Deo', 'Four', 75, 'female')\n",
      "(18, 'Honny', 'Five', 75, 'male')\n",
      "(20, 'Jackly', 'Nine', 65, 'female')\n",
      "(21, 'Babby John', 'Four', 69, 'female')\n",
      "(34, 'Gain Toe', 'Seven', 69, 'male')\n",
      "Total Number of rows :  5\n"
     ]
    }
   ],
   "source": [
    "from sqlalchemy.exc import SQLAlchemyError\n",
    "\n",
    "my_tuple = (65, 75)\n",
    "q = \"SELECT * FROM student WHERE mark BETWEEN ? AND ?\"\n",
    "\n",
    "try:\n",
    "    r_set = my_conn.execute(q, my_tuple)\n",
    "    r_list = r_set.fetchall()\n",
    "    for row in r_list:\n",
    "        print(row)\n",
    "except SQLAlchemyError as e:\n",
    "    error = str(e.__dict__['orig'])\n",
    "    print(error)\n",
    "else:\n",
    "    print(\"Total Number of rows : \", len(r_list))"
   ]
  },
  {
   "cell_type": "code",
   "execution_count": 13,
   "metadata": {},
   "outputs": [
    {
     "name": "stdout",
     "output_type": "stream",
     "text": [
      "(12, 'Recky', 'Six', 94, 'female')\n",
      "(19, 'Tinny', 'Nine', 18, 'male')\n",
      "(33, 'Kenn Rein', 'Six', 96, 'female')\n",
      "Total Number of rows :  3\n"
     ]
    }
   ],
   "source": [
    "from sqlalchemy.exc import SQLAlchemyError\n",
    "\n",
    "my_tuple = (25, 90)\n",
    "q = \"SELECT * FROM student WHERE mark NOT BETWEEN ? AND ?\"\n",
    "\n",
    "try:\n",
    "    r_set = my_conn.execute(q, my_tuple)\n",
    "    r_list = r_set.fetchall()\n",
    "    for row in r_list:\n",
    "        print(row)\n",
    "except SQLAlchemyError as e:\n",
    "    error = str(e.__dict__['orig'])\n",
    "    print(error)\n",
    "else:\n",
    "    print(\"Total Number of rows : \", len(r_list))"
   ]
  },
  {
   "cell_type": "code",
   "execution_count": 14,
   "metadata": {},
   "outputs": [
    {
     "name": "stdout",
     "output_type": "stream",
     "text": [
      "(23, 'Herod', 'Eight', 79, 'male')\n",
      "(8, 'Asruid', 'Five', 85, 'male')\n",
      "(7, 'My John Rob', 'Five', 78, 'male')\n",
      "(18, 'Honny', 'Five', 75, 'male')\n",
      "(15, 'Tade Row', 'Four', 88, 'male')\n",
      "(16, 'Gimmy', 'Four', 88, 'male')\n",
      "(31, 'Marry Toeey', 'Four', 88, 'male')\n",
      "(1, 'John Deo', 'Four', 75, 'female')\n",
      "(21, 'Babby John', 'Four', 69, 'female')\n",
      "(4, 'Krish Star', 'Four', 60, 'female')\n",
      "(5, 'John Mike', 'Four', 60, 'female')\n",
      "(6, 'Alex John', 'Four', 55, 'male')\n",
      "(10, 'Big John', 'Four', 55, 'female')\n",
      "(20, 'Jackly', 'Nine', 65, 'female')\n",
      "(19, 'Tinny', 'Nine', 18, 'male')\n",
      "(32, 'Binn Rott', 'Seven', 90, 'female')\n",
      "(13, 'Kty', 'Seven', 88, 'female')\n",
      "(14, 'Bigy', 'Seven', 88, 'female')\n",
      "(25, 'Giff Tow', 'Seven', 88, 'male')\n",
      "(28, 'Rojj Base', 'Seven', 86, 'female')\n",
      "(26, 'Crelea', 'Seven', 79, 'male')\n",
      "(24, 'Tiddy Now', 'Seven', 78, 'male')\n",
      "(34, 'Gain Toe', 'Seven', 69, 'male')\n",
      "(22, 'Reggid', 'Seven', 55, 'female')\n",
      "(29, 'Tess Played', 'Seven', 55, 'male')\n",
      "(33, 'Kenn Rein', 'Six', 96, 'female')\n",
      "(12, 'Recky', 'Six', 94, 'female')\n",
      "(11, 'Ronald', 'Six', 89, 'female')\n",
      "(35, 'Rows Noump', 'Six', 88, 'female')\n",
      "(30, 'Reppy Red', 'Six', 79, 'female')\n",
      "(9, 'Tes Qry', 'Six', 78, 'male')\n",
      "(17, 'Tumyu', 'Six', 54, 'male')\n",
      "(2, 'Max Ruin', 'Three', 85, 'male')\n",
      "(27, 'Big Nose', 'Three', 81, 'female')\n",
      "(3, 'Arnold', 'Three', 55, 'male')\n",
      "Total Number of rows :  35\n"
     ]
    }
   ],
   "source": [
    "from sqlalchemy.exc import SQLAlchemyError\n",
    "\n",
    "q = \"SELECT * FROM student ORDER BY class, mark DESC\"\n",
    "\n",
    "try:\n",
    "    r_set = my_conn.execute(q)\n",
    "    r_list = r_set.fetchall()\n",
    "    for row in r_list:\n",
    "        print(row)\n",
    "except SQLAlchemyError as e:\n",
    "    error = str(e.__dict__['orig'])\n",
    "    print(error)\n",
    "else:\n",
    "    print(\"Total Number of rows : \", len(r_list))"
   ]
  },
  {
   "cell_type": "code",
   "execution_count": 15,
   "metadata": {},
   "outputs": [
    {
     "name": "stdout",
     "output_type": "stream",
     "text": [
      "(8, 'Asruid', 'Five', 85, 'male')\n",
      "(7, 'My John Rob', 'Five', 78, 'male')\n",
      "(18, 'Honny', 'Five', 75, 'male')\n",
      "Total Number of rows :  3\n"
     ]
    }
   ],
   "source": [
    "from sqlalchemy.exc import SQLAlchemyError\n",
    "\n",
    "q = \"SELECT * FROM student WHERE class='Five' ORDER BY mark DESC\"\n",
    "\n",
    "try:\n",
    "    r_set = my_conn.execute(q)\n",
    "    r_list = r_set.fetchall()\n",
    "    for row in r_list:\n",
    "        print(row)\n",
    "except SQLAlchemyError as e:\n",
    "    error = str(e.__dict__['orig'])\n",
    "    print(error)\n",
    "else:\n",
    "    print(\"Total Number of rows : \", len(r_list))"
   ]
  },
  {
   "cell_type": "code",
   "execution_count": 16,
   "metadata": {},
   "outputs": [
    {
     "name": "stdout",
     "output_type": "stream",
     "text": [
      "(7, 'My John Rob', 'Five', 78, 'male')\n",
      "Total Number of rows :  1\n"
     ]
    }
   ],
   "source": [
    "from sqlalchemy.exc import SQLAlchemyError\n",
    "\n",
    "q = \"SELECT * FROM student WHERE class='Five' ORDER BY mark DESC LIMIT 1,1\"\n",
    "\n",
    "try:\n",
    "    r_set = my_conn.execute(q)\n",
    "    r_list = r_set.fetchall()\n",
    "    for row in r_list:\n",
    "        print(row)\n",
    "except SQLAlchemyError as e:\n",
    "    error = str(e.__dict__['orig'])\n",
    "    print(error)\n",
    "else:\n",
    "    print(\"Total Number of rows : \", len(r_list))"
   ]
  },
  {
   "cell_type": "code",
   "execution_count": 17,
   "metadata": {},
   "outputs": [
    {
     "name": "stdout",
     "output_type": "stream",
     "text": [
      "[('John', 'Doe', 80000), ('Jane', 'Doe', 90000)]\n",
      "[('Jane', 'Doe', 95000)]\n"
     ]
    }
   ],
   "source": [
    "import sqlite3\n",
    "from employee import Employee\n",
    "\n",
    "conn = sqlite3.connect(':memory:')\n",
    "\n",
    "c = conn.cursor()\n",
    "\n",
    "c.execute(\"\"\"CREATE TABLE employees (\n",
    "            first text,\n",
    "            last text,\n",
    "            pay integer\n",
    "            )\"\"\")\n",
    "\n",
    "def insert_emp(emp):\n",
    "    with conn:\n",
    "        c.execute(\"INSERT INTO employees VALUES (:first, :last, :pay)\", {'first': emp.first, 'last': emp.last, 'pay': emp.pay})\n",
    "\n",
    "def get_emps_by_name(lastname):\n",
    "    c.execute(\"SELECT * FROM employees WHERE last=:last\", {'last': lastname})\n",
    "    return c.fetchall()\n",
    "\n",
    "def update_pay(emp, pay):\n",
    "    with conn:\n",
    "        c.execute(\"\"\"UPDATE employees SET pay = :pay\n",
    "                    WHERE first = :first AND last = :last\"\"\",\n",
    "                    {'first': emp.first, 'last': emp.last, 'pay': pay})\n",
    "\n",
    "def remove_emp(emp):\n",
    "    with conn:\n",
    "        c.execute(\"DELETE from employees WHERE first = :first AND last = :last\",\n",
    "                    {'first': emp.first, 'last': emp.last})\n",
    "\n",
    "emp_1 = Employee('John', 'Doe', 80000)\n",
    "emp_2 = Employee('Jane', 'Doe', 90000)\n",
    "\n",
    "insert_emp(emp_1)\n",
    "insert_emp(emp_2)\n",
    "\n",
    "emps = get_emps_by_name('Doe')\n",
    "print(emps)\n",
    "\n",
    "update_pay(emp_2, 95000)\n",
    "remove_emp(emp_1)\n",
    "\n",
    "emps = get_emps_by_name('Doe')\n",
    "print(emps)\n",
    "\n",
    "conn.close()"
   ]
  }
 ],
 "metadata": {
  "kernelspec": {
   "display_name": "Python 3.10.8 64-bit (microsoft store)",
   "language": "python",
   "name": "python3"
  },
  "language_info": {
   "codemirror_mode": {
    "name": "ipython",
    "version": 3
   },
   "file_extension": ".py",
   "mimetype": "text/x-python",
   "name": "python",
   "nbconvert_exporter": "python",
   "pygments_lexer": "ipython3",
   "version": "3.10.8"
  },
  "orig_nbformat": 4,
  "vscode": {
   "interpreter": {
    "hash": "bcc6da4854f38f2f5569e432192a562de147a81dec6a2f35d79d9b5a1f3709a6"
   }
  }
 },
 "nbformat": 4,
 "nbformat_minor": 2
}
