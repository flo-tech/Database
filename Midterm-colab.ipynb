{
  "nbformat": 4,
  "nbformat_minor": 0,
  "metadata": {
    "colab": {
      "provenance": [],
      "collapsed_sections": [],
      "authorship_tag": "ABX9TyM8++uHYB+XzCyBz2QFmYqG",
      "include_colab_link": true
    },
    "kernelspec": {
      "name": "python3",
      "display_name": "Python 3"
    },
    "language_info": {
      "name": "python"
    }
  },
  "cells": [
    {
      "cell_type": "markdown",
      "metadata": {
        "id": "view-in-github",
        "colab_type": "text"
      },
      "source": [
        "<a href=\"https://colab.research.google.com/github/flo-tech/Database/blob/main/Midterm-colab.ipynb\" target=\"_parent\"><img src=\"https://colab.research.google.com/assets/colab-badge.svg\" alt=\"Open In Colab\"/></a>"
      ]
    },
    {
      "cell_type": "code",
      "execution_count": 5,
      "metadata": {
        "id": "jO4wveSm4M0J"
      },
      "outputs": [],
      "source": [
        "from sqlalchemy import create_engine\n",
        "my_conn = create_engine(\"sqlite:///ITS_db.db\")"
      ]
    },
    {
      "cell_type": "code",
      "source": [
        "from sqlalchemy.sql import text\n",
        "import time\n",
        "import sqlparse\n",
        "\n",
        "conn = my_conn.connect()\n",
        "\n",
        "with open(\"creation_table.sql\") as file:\n",
        "    query = file.read()\n",
        "    sql_queries = sqlparse.split(\n",
        "        sqlparse.format(query, strip_comments=True)\n",
        "    )\n",
        "    for string in sql_queries:\n",
        "        conn.execute(string)"
      ],
      "metadata": {
        "colab": {
          "base_uri": "https://localhost:8080/"
        },
        "id": "wbQaREPi4qIW",
        "outputId": "f5546ac9-e906-45cc-fdd5-d6de148309ae"
      },
      "execution_count": 6,
      "outputs": [
        {
          "output_type": "stream",
          "name": "stderr",
          "text": [
            "ERROR:sqlalchemy.pool.impl.NullPool:Exception during reset or similar\n",
            "Traceback (most recent call last):\n",
            "  File \"/usr/local/lib/python3.7/dist-packages/sqlalchemy/pool/base.py\", line 753, in _finalize_fairy\n",
            "    fairy._reset(pool)\n",
            "  File \"/usr/local/lib/python3.7/dist-packages/sqlalchemy/pool/base.py\", line 1004, in _reset\n",
            "    pool._dialect.do_rollback(self)\n",
            "  File \"/usr/local/lib/python3.7/dist-packages/sqlalchemy/engine/default.py\", line 683, in do_rollback\n",
            "    dbapi_connection.rollback()\n",
            "sqlite3.ProgrammingError: SQLite objects created in a thread can only be used in that same thread. The object was created in thread id 140119936575360 and this is thread id 140119505651456.\n",
            "ERROR:sqlalchemy.pool.impl.NullPool:Exception closing connection <sqlite3.Connection object at 0x7f701c14e490>\n",
            "Traceback (most recent call last):\n",
            "  File \"/usr/local/lib/python3.7/dist-packages/sqlalchemy/pool/base.py\", line 753, in _finalize_fairy\n",
            "    fairy._reset(pool)\n",
            "  File \"/usr/local/lib/python3.7/dist-packages/sqlalchemy/pool/base.py\", line 1004, in _reset\n",
            "    pool._dialect.do_rollback(self)\n",
            "  File \"/usr/local/lib/python3.7/dist-packages/sqlalchemy/engine/default.py\", line 683, in do_rollback\n",
            "    dbapi_connection.rollback()\n",
            "sqlite3.ProgrammingError: SQLite objects created in a thread can only be used in that same thread. The object was created in thread id 140119936575360 and this is thread id 140119505651456.\n",
            "\n",
            "During handling of the above exception, another exception occurred:\n",
            "\n",
            "Traceback (most recent call last):\n",
            "  File \"/usr/local/lib/python3.7/dist-packages/sqlalchemy/pool/base.py\", line 255, in _close_connection\n",
            "    self._dialect.do_terminate(connection)\n",
            "  File \"/usr/local/lib/python3.7/dist-packages/sqlalchemy/engine/default.py\", line 689, in do_terminate\n",
            "    self.do_close(dbapi_connection)\n",
            "  File \"/usr/local/lib/python3.7/dist-packages/sqlalchemy/engine/default.py\", line 692, in do_close\n",
            "    dbapi_connection.close()\n",
            "sqlite3.ProgrammingError: SQLite objects created in a thread can only be used in that same thread. The object was created in thread id 140119936575360 and this is thread id 140119505651456.\n"
          ]
        }
      ]
    },
    {
      "cell_type": "code",
      "source": [
        "with open(\"insert_data.sql\") as file:\n",
        "    query = file.read()\n",
        "    sql_queries = sqlparse.split(\n",
        "        sqlparse.format(query, strip_comments=True)\n",
        "    )\n",
        "    for string in sql_queries:\n",
        "        conn.execute(string)"
      ],
      "metadata": {
        "id": "vkkyj9fJ5Hdw"
      },
      "execution_count": 7,
      "outputs": []
    },
    {
      "cell_type": "code",
      "source": [
        "r_set=my_conn.execute('''SELECT * FROM Vehicle;''')\n",
        "for row in r_set:\n",
        "    print(row)"
      ],
      "metadata": {
        "id": "zozC25c45Nmt",
        "colab": {
          "base_uri": "https://localhost:8080/"
        },
        "outputId": "9ed6bd05-ffe9-48c0-a6f5-7e3fa6c0f801"
      },
      "execution_count": 8,
      "outputs": [
        {
          "output_type": "stream",
          "name": "stdout",
          "text": [
            "(1, 'Blue', 'K7', 4, 1209, 'Kia', 1, '2020 DCF', 1)\n",
            "(2, 'White', 'model 3', 4, 304, 'Tesla', 1, '2021 AHR', 2)\n",
            "(3, 'Orange', 'capture', 4, 842, 'renault', 0, '2022 AFC', 3)\n"
          ]
        }
      ]
    },
    {
      "cell_type": "code",
      "source": [
        "r_set=my_conn.execute('''SELECT * FROM Maintenance;''')\n",
        "for row in r_set:\n",
        "    print(row)"
      ],
      "metadata": {
        "id": "65aJGwV15O-f",
        "colab": {
          "base_uri": "https://localhost:8080/"
        },
        "outputId": "160d3981-6cf4-4a2c-ebf5-0573f7f08db8"
      },
      "execution_count": 9,
      "outputs": [
        {
          "output_type": "stream",
          "name": "stdout",
          "text": [
            "(1, 'M', '2022-07-18', 'Car review', 150000, 3)\n"
          ]
        }
      ]
    },
    {
      "cell_type": "code",
      "source": [
        "r_set=my_conn.execute('''SELECT * FROM Language;''')\n",
        "for row in r_set:\n",
        "    print(row)"
      ],
      "metadata": {
        "id": "ubfJqIH05QRY",
        "colab": {
          "base_uri": "https://localhost:8080/"
        },
        "outputId": "e8c87875-63df-42f0-9b18-45f27c7e2d3e"
      },
      "execution_count": 10,
      "outputs": [
        {
          "output_type": "stream",
          "name": "stdout",
          "text": [
            "('FR', 1)\n",
            "('KR', 2)\n",
            "('EN', 3)\n"
          ]
        }
      ]
    },
    {
      "cell_type": "code",
      "source": [
        "r_set=my_conn.execute('''SELECT * FROM Country;''')\n",
        "for row in r_set:\n",
        "    print(row)"
      ],
      "metadata": {
        "id": "CifeiB285Rlr",
        "colab": {
          "base_uri": "https://localhost:8080/"
        },
        "outputId": "ad0c16a8-b960-47d9-ea60-ce79041c368d"
      },
      "execution_count": 11,
      "outputs": [
        {
          "output_type": "stream",
          "name": "stdout",
          "text": [
            "(1, 'Korea', 2)\n",
            "(2, 'USA', 3)\n",
            "(3, 'France', 1)\n"
          ]
        }
      ]
    },
    {
      "cell_type": "code",
      "source": [
        "r_set=my_conn.execute('''SELECT * FROM City;''')\n",
        "for row in r_set:\n",
        "    print(row)"
      ],
      "metadata": {
        "id": "g__BvhWL5Swy",
        "colab": {
          "base_uri": "https://localhost:8080/"
        },
        "outputId": "b2f07148-566d-4b9e-a0eb-cb5506ea738d"
      },
      "execution_count": 12,
      "outputs": [
        {
          "output_type": "stream",
          "name": "stdout",
          "text": [
            "(1, 'Seoul', 1)\n",
            "(2, 'Incheon', 1)\n"
          ]
        }
      ]
    },
    {
      "cell_type": "code",
      "source": [
        "r_set=my_conn.execute('''SELECT * FROM Location;''')\n",
        "for row in r_set:\n",
        "    print(row)"
      ],
      "metadata": {
        "id": "qzEdXuWJ5UBd",
        "colab": {
          "base_uri": "https://localhost:8080/"
        },
        "outputId": "24409b70-a12f-4dbd-ea49-76357069d1c4"
      },
      "execution_count": 13,
      "outputs": [
        {
          "output_type": "stream",
          "name": "stdout",
          "text": [
            "(1, 'address Hotel', 204, 'Hotel', 2)\n",
            "(2, 'address Hotel2', 505, 'Hotel2', 1)\n",
            "(3, 'address airport', 104, 'Airport', 2)\n",
            "(4, 'address Aquatic Center', 104, 'Aquatic Center', 2)\n"
          ]
        }
      ]
    },
    {
      "cell_type": "code",
      "source": [
        "r_set=my_conn.execute('''SELECT * FROM Trip;''')\n",
        "for row in r_set:\n",
        "    print(row)"
      ],
      "metadata": {
        "id": "hfedDf0k5Vt_",
        "colab": {
          "base_uri": "https://localhost:8080/"
        },
        "outputId": "d23fe08f-3f8a-4e7a-f8db-d1191177c0a6"
      },
      "execution_count": 14,
      "outputs": [
        {
          "output_type": "stream",
          "name": "stdout",
          "text": [
            "(1, '2022-07-18 15:12:48', '2022-07-18 16:07:24', 304, 324, 3, 1)\n"
          ]
        }
      ]
    },
    {
      "cell_type": "code",
      "source": [
        "r_set=my_conn.execute('''SELECT * FROM Driver;''')\n",
        "for row in r_set:\n",
        "    print(row)"
      ],
      "metadata": {
        "id": "KMwa8pI55XKN",
        "colab": {
          "base_uri": "https://localhost:8080/"
        },
        "outputId": "ecc17851-1cc5-41ff-df8c-4c15ce2b67ba"
      },
      "execution_count": 15,
      "outputs": [
        {
          "output_type": "stream",
          "name": "stdout",
          "text": [
            "(1, 'kim Soyeon', '200324581245860429', 1, None, None, None, None, None, 2)\n",
            "(2, 'Smith Sam', '200324581245860429', 1, None, None, None, None, None, 3)\n",
            "(3, 'Lee Jimin', '200324581245860429', 1, None, None, None, None, None, 2)\n"
          ]
        }
      ]
    },
    {
      "cell_type": "code",
      "source": [
        "r_set=my_conn.execute('''SELECT * FROM Game_official;''')\n",
        "for row in r_set:\n",
        "    print(row)"
      ],
      "metadata": {
        "id": "VGR58NF25Ye8",
        "colab": {
          "base_uri": "https://localhost:8080/"
        },
        "outputId": "df308082-ba95-47d2-9809-1d83b315b397"
      },
      "execution_count": 16,
      "outputs": [
        {
          "output_type": "stream",
          "name": "stdout",
          "text": [
            "(1, 'Yeon Ki-yeon', 'coach', 2, 1, 13)\n",
            "(2, 'Harry Eden', 'judge', 3, 2, 7)\n"
          ]
        }
      ]
    },
    {
      "cell_type": "code",
      "source": [
        "# Get New Id for Booking\n",
        "from unittest import result\n",
        "\n",
        "r_set=my_conn.execute('''SELECT max(\"Id\") FROM Booking;''')\n",
        "id = 0\n",
        "max_id_booking = r_set.first()[0]\n",
        "\n",
        "if max_id_booking == None:\n",
        "    id = 1\n",
        "else:\n",
        "    id = max_id_booking + 1\n",
        "\n",
        "# Set Booking reference number\n",
        "number = 854\n",
        "\n",
        "# Set the game official who use ITS's services\n",
        "r_set=my_conn.execute('''SELECT * FROM Game_official WHERE name = \"Harry Eden\";''')\n",
        "game_official_data = r_set.first()\n",
        "game_official_language_id = game_official_data['Language_Id']\n",
        "game_official_data_id = game_official_data['Id']\n",
        "\n",
        "# Get Id of the Trip\n",
        "r_set=my_conn.execute('''SELECT max(\"Id\") FROM Trip;''')\n",
        "max_id_trip = r_set.first()[0]\n",
        "\n",
        "# Get a Vehicule Id\n",
        "r_set=my_conn.execute('''SELECT * from [Vehicle] where available = 1;''')\n",
        "\n",
        "# Find driver who speak the same language as the game official\n",
        "for row in r_set:\n",
        "    vehicle_id = row['Id']\n",
        "    Driver_Id = row['Driver_Id']\n",
        "    result_driver=my_conn.execute('''SELECT * from [Driver] where Id =''' + str(Driver_Id) + ';')\n",
        "    Driver_data = result_driver.first()\n",
        "    if Driver_data['Language_Id'] == game_official_language_id:\n",
        "        break\n",
        "\n",
        "# add available column to the driver table\n",
        "\n",
        "# Create row in table Booking\n",
        "r_set=my_conn.execute('''INSERT INTO [Booking] VALUES\n",
        "    (\n",
        "        (SELECT max(\"Id\") FROM [Booking])+ 1,\n",
        "        '''+ str(number) +''',\n",
        "        (SELECT max(\"Id\") FROM [Trip]),\n",
        "        '''+ str(vehicle_id) +''',\n",
        "        '''+ str(Driver_Id) +''',\n",
        "        '''+ str(game_official_data_id) +'''\n",
        "    );''')\n"
      ],
      "metadata": {
        "id": "m1KIsCbc5awK"
      },
      "execution_count": 17,
      "outputs": []
    },
    {
      "cell_type": "code",
      "source": [
        "r_set=my_conn.execute('''UPDATE Vehicle\n",
        "    SET available = 0\n",
        "    Where Id = '''+ str(vehicle_id) +'''\n",
        "    ;''')\n",
        "r_set=my_conn.execute('''SELECT * FROM Vehicle;''')\n",
        "for row in r_set:\n",
        "    print(row)\n"
      ],
      "metadata": {
        "colab": {
          "base_uri": "https://localhost:8080/"
        },
        "id": "rjoTkAR_5cvt",
        "outputId": "28234387-7c04-4c12-c368-37dc65cc62d4"
      },
      "execution_count": 18,
      "outputs": [
        {
          "output_type": "stream",
          "name": "stdout",
          "text": [
            "(1, 'Blue', 'K7', 4, 1209, 'Kia', 1, '2020 DCF', 1)\n",
            "(2, 'White', 'model 3', 4, 304, 'Tesla', 0, '2021 AHR', 2)\n",
            "(3, 'Orange', 'capture', 4, 842, 'renault', 0, '2022 AFC', 3)\n"
          ]
        }
      ]
    },
    {
      "cell_type": "code",
      "source": [
        "r_set=my_conn.execute('''SELECT * FROM Booking;''')\n",
        "for row in r_set:\n",
        "    print(row)"
      ],
      "metadata": {
        "id": "RlLNB4LT5cWu",
        "colab": {
          "base_uri": "https://localhost:8080/"
        },
        "outputId": "cbb4c447-6622-41c6-a69c-9bc7070bc7d7"
      },
      "execution_count": 19,
      "outputs": [
        {
          "output_type": "stream",
          "name": "stdout",
          "text": [
            "(1, 854, 1, 2, 2, 2)\n"
          ]
        }
      ]
    }
  ]
}