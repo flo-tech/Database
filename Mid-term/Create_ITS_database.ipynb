{
 "cells": [
  {
   "cell_type": "code",
   "execution_count": 1,
   "metadata": {},
   "outputs": [],
   "source": [
    "from sqlalchemy import create_engine\n",
    "my_conn = create_engine(\"sqlite:///ITS_db.db\")"
   ]
  },
  {
   "cell_type": "code",
   "execution_count": 2,
   "metadata": {},
   "outputs": [],
   "source": [
    "from sqlalchemy.sql import text\n",
    "import time\n",
    "import sqlparse\n",
    "\n",
    "conn = my_conn.connect()\n",
    "\n",
    "with open(\"creation_table.sql\") as file:\n",
    "    query = file.read()\n",
    "    sql_queries = sqlparse.split(\n",
    "        sqlparse.format(query, strip_comments=True)\n",
    "    )\n",
    "    for string in sql_queries:\n",
    "        conn.execute(string)"
   ]
  },
  {
   "cell_type": "code",
   "execution_count": 3,
   "metadata": {},
   "outputs": [],
   "source": [
    "with open(\"insert_data.sql\") as file:\n",
    "    query = file.read()\n",
    "    sql_queries = sqlparse.split(\n",
    "        sqlparse.format(query, strip_comments=True)\n",
    "    )\n",
    "    for string in sql_queries:\n",
    "        conn.execute(string)"
   ]
  },
  {
   "cell_type": "code",
   "execution_count": 4,
   "metadata": {},
   "outputs": [
    {
     "name": "stdout",
     "output_type": "stream",
     "text": [
      "(1, 'Blue', 'K7', 4, 1209, 'Kia', 1, '2020 DCF', 1)\n",
      "(2, 'White', 'model 3', 4, 304, 'Tesla', 1, '2021 AHR', 2)\n",
      "(3, 'Orange', 'capture', 4, 842, 'renault', 0, '2022 AFC', 3)\n"
     ]
    }
   ],
   "source": [
    "r_set=my_conn.execute('''SELECT * FROM Vehicle;''')\n",
    "for row in r_set:\n",
    "    print(row)"
   ]
  },
  {
   "cell_type": "code",
   "execution_count": 5,
   "metadata": {},
   "outputs": [
    {
     "name": "stdout",
     "output_type": "stream",
     "text": [
      "(1, 'M', '2022-07-18', 'Car review', 150000, 3)\n"
     ]
    }
   ],
   "source": [
    "r_set=my_conn.execute('''SELECT * FROM Maintenance;''')\n",
    "for row in r_set:\n",
    "    print(row)"
   ]
  },
  {
   "cell_type": "code",
   "execution_count": 6,
   "metadata": {},
   "outputs": [
    {
     "name": "stdout",
     "output_type": "stream",
     "text": [
      "('FR', 1)\n",
      "('KR', 2)\n",
      "('EN', 3)\n"
     ]
    }
   ],
   "source": [
    "r_set=my_conn.execute('''SELECT * FROM Language;''')\n",
    "for row in r_set:\n",
    "    print(row)"
   ]
  },
  {
   "cell_type": "code",
   "execution_count": 7,
   "metadata": {},
   "outputs": [
    {
     "name": "stdout",
     "output_type": "stream",
     "text": [
      "(1, 'Korea', 2)\n",
      "(2, 'USA', 3)\n",
      "(3, 'France', 1)\n"
     ]
    }
   ],
   "source": [
    "r_set=my_conn.execute('''SELECT * FROM Country;''')\n",
    "for row in r_set:\n",
    "    print(row)"
   ]
  },
  {
   "cell_type": "code",
   "execution_count": 8,
   "metadata": {},
   "outputs": [
    {
     "name": "stdout",
     "output_type": "stream",
     "text": [
      "(1, 'Seoul', 1)\n",
      "(2, 'Incheon', 1)\n"
     ]
    }
   ],
   "source": [
    "r_set=my_conn.execute('''SELECT * FROM City;''')\n",
    "for row in r_set:\n",
    "    print(row)"
   ]
  },
  {
   "cell_type": "code",
   "execution_count": 9,
   "metadata": {},
   "outputs": [
    {
     "name": "stdout",
     "output_type": "stream",
     "text": [
      "(1, 'address Hotel', 204, 'Hotel', 2)\n",
      "(2, 'address Hotel2', 505, 'Hotel2', 1)\n",
      "(3, 'address airport', 104, 'Airport', 2)\n",
      "(4, 'address Aquatic Center', 104, 'Aquatic Center', 2)\n"
     ]
    }
   ],
   "source": [
    "r_set=my_conn.execute('''SELECT * FROM Location;''')\n",
    "for row in r_set:\n",
    "    print(row)"
   ]
  },
  {
   "cell_type": "code",
   "execution_count": 10,
   "metadata": {},
   "outputs": [
    {
     "name": "stdout",
     "output_type": "stream",
     "text": [
      "(1, '2022-07-18 15:12:48', '2022-07-18 16:07:24', 304, 324, 3, 1)\n"
     ]
    }
   ],
   "source": [
    "r_set=my_conn.execute('''SELECT * FROM Trip;''')\n",
    "for row in r_set:\n",
    "    print(row)"
   ]
  },
  {
   "cell_type": "code",
   "execution_count": 11,
   "metadata": {},
   "outputs": [
    {
     "name": "stdout",
     "output_type": "stream",
     "text": [
      "(1, 'kim Soyeon', '200324581245860429', 1, None, None, None, None, None, 2)\n",
      "(2, 'Smith Sam', '200324581245860429', 1, None, None, None, None, None, 3)\n",
      "(3, 'Lee Jimin', '200324581245860429', 1, None, None, None, None, None, 2)\n"
     ]
    }
   ],
   "source": [
    "r_set=my_conn.execute('''SELECT * FROM Driver;''')\n",
    "for row in r_set:\n",
    "    print(row)"
   ]
  },
  {
   "cell_type": "code",
   "execution_count": 12,
   "metadata": {},
   "outputs": [
    {
     "name": "stdout",
     "output_type": "stream",
     "text": [
      "(1, 'Yeon Ki-yeon', 'coach', 2, 1, 13)\n",
      "(2, 'Harry Eden', 'judge', 3, 2, 7)\n"
     ]
    }
   ],
   "source": [
    "r_set=my_conn.execute('''SELECT * FROM Game_official;''')\n",
    "for row in r_set:\n",
    "    print(row)"
   ]
  },
  {
   "cell_type": "code",
   "execution_count": 13,
   "metadata": {},
   "outputs": [],
   "source": [
    "# Get New Id for Booking\n",
    "from unittest import result\n",
    "\n",
    "r_set=my_conn.execute('''SELECT max(\"Id\") FROM Booking;''')\n",
    "id = 0\n",
    "max_id_booking = r_set.first()[0]\n",
    "\n",
    "if max_id_booking == None:\n",
    "    id = 1\n",
    "else:\n",
    "    id = max_id_booking + 1\n",
    "\n",
    "# Set Booking reference number\n",
    "number = 854\n",
    "\n",
    "# Set the game official who use ITS's services\n",
    "r_set=my_conn.execute('''SELECT * FROM Game_official WHERE name = \"Harry Eden\";''')\n",
    "game_official_data = r_set.first()\n",
    "game_official_language_id = game_official_data['Language_Id']\n",
    "game_official_data_id = game_official_data['Id']\n",
    "\n",
    "# Get Id of the Trip\n",
    "r_set=my_conn.execute('''SELECT max(\"Id\") FROM Trip;''')\n",
    "max_id_trip = r_set.first()[0]\n",
    "\n",
    "# Get a Vehicule Id\n",
    "r_set=my_conn.execute('''SELECT * from [Vehicle] where available = 1;''')\n",
    "\n",
    "# Find driver who speak the same language as the game official\n",
    "for row in r_set:\n",
    "    vehicle_id = row['Id']\n",
    "    Driver_Id = row['Driver_Id']\n",
    "    result_driver=my_conn.execute('''SELECT * from [Driver] where Id =''' + str(Driver_Id) + ';')\n",
    "    Driver_data = result_driver.first()\n",
    "    if Driver_data['Language_Id'] == game_official_language_id:\n",
    "        break\n",
    "\n",
    "# add available column to the driver table\n",
    "\n",
    "# Create row in table Booking\n",
    "r_set=my_conn.execute('''INSERT INTO [Booking] VALUES\n",
    "    (\n",
    "        (SELECT max(\"Id\") FROM [Booking])+ 1,\n",
    "        '''+ str(number) +''',\n",
    "        (SELECT max(\"Id\") FROM [Trip]),\n",
    "        '''+ str(vehicle_id) +''',\n",
    "        '''+ str(Driver_Id) +''',\n",
    "        '''+ str(game_official_data_id) +'''\n",
    "    );''')\n"
   ]
  },
  {
   "cell_type": "code",
   "execution_count": 20,
   "metadata": {},
   "outputs": [],
   "source": [
    "r_set=my_conn.execute('''UPDATE Vehicle\n",
    "    SET available = 0\n",
    "    Where Id = '''+ str(vehicle_id) +'''\n",
    "    ;''')"
   ]
  },
  {
   "cell_type": "code",
   "execution_count": 21,
   "metadata": {},
   "outputs": [
    {
     "name": "stdout",
     "output_type": "stream",
     "text": [
      "(1, 'Blue', 'K7', 4, 1209, 'Kia', 1, '2020 DCF', 1)\n",
      "(2, 'White', 'model 3', 4, 304, 'Tesla', 0, '2021 AHR', 2)\n",
      "(3, 'Orange', 'capture', 4, 842, 'renault', 0, '2022 AFC', 3)\n"
     ]
    }
   ],
   "source": [
    "r_set=my_conn.execute('''SELECT * FROM Vehicle;''')\n",
    "for row in r_set:\n",
    "    print(row)"
   ]
  },
  {
   "cell_type": "code",
   "execution_count": 18,
   "metadata": {},
   "outputs": [
    {
     "name": "stdout",
     "output_type": "stream",
     "text": [
      "(1, 854, 1, 2, 2, 2)\n"
     ]
    }
   ],
   "source": [
    "r_set=my_conn.execute('''SELECT * FROM Booking;''')\n",
    "for row in r_set:\n",
    "    print(row)"
   ]
  }
 ],
 "metadata": {
  "kernelspec": {
   "display_name": "Python 3.10.8 64-bit (microsoft store)",
   "language": "python",
   "name": "python3"
  },
  "language_info": {
   "codemirror_mode": {
    "name": "ipython",
    "version": 3
   },
   "file_extension": ".py",
   "mimetype": "text/x-python",
   "name": "python",
   "nbconvert_exporter": "python",
   "pygments_lexer": "ipython3",
   "version": "3.10.8"
  },
  "orig_nbformat": 4,
  "vscode": {
   "interpreter": {
    "hash": "bcc6da4854f38f2f5569e432192a562de147a81dec6a2f35d79d9b5a1f3709a6"
   }
  }
 },
 "nbformat": 4,
 "nbformat_minor": 2
}
